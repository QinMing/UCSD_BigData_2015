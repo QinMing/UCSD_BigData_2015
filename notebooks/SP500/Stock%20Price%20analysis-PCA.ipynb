{
 "cells": [
  {
   "cell_type": "markdown",
   "metadata": {
    "slideshow": {
     "slide_type": "slide"
    }
   },
   "source": [
    "## Analysis of stock prices using PCA\n",
    "\n",
    "In this Notebook we analyze the prices of stocks in the S&P500.\n",
    "\n",
    "The notebook consists of 3 parts: data loading, PCA analysis column-wise and PCA analysis row wise."
   ]
  },
  {
   "cell_type": "code",
   "execution_count": 1,
   "metadata": {
    "collapsed": false,
    "slideshow": {
     "slide_type": "skip"
    }
   },
   "outputs": [],
   "source": [
    "import sys,os\n",
    "import numpy as np\n",
    "from numpy.linalg import norm\n",
    "import matplotlib.pyplot as plt\n",
    "%matplotlib inline\n",
    "import statsmodels.api as sm\n",
    "\n",
    "from time import time\n",
    "import math\n",
    "import pandas as pd\n",
    "from glob import glob\n",
    "import pickle\n"
   ]
  },
  {
   "cell_type": "markdown",
   "metadata": {},
   "source": [
    "###Data Loading\n",
    "The data is in a tar file on S3. Download and untar the file and then execute the following cells."
   ]
  },
  {
   "cell_type": "code",
   "execution_count": 6,
   "metadata": {
    "collapsed": false,
    "scrolled": true
   },
   "outputs": [
    {
     "data": {
      "text/plain": [
       "'/Users/qinming/iPythonNotebook/UCSD_BigData_2015/notebooks/SP500'"
      ]
     },
     "execution_count": 6,
     "metadata": {},
     "output_type": "execute_result"
    }
   ],
   "source": [
    "#change this path to where you stored the raw data\n",
    "# Data_dir='/Users/yoavfreund/BigData/stocksDataset/spdata_csv/'\n",
    "Data_dir='/Users/qinming/iPythonNotebook/UCSD_BigData_2015/notebooks/SP500/spdata_csv'\n",
    "curr_dir=os.getcwd()\n",
    "curr_dir"
   ]
  },
  {
   "cell_type": "code",
   "execution_count": 88,
   "metadata": {
    "collapsed": false,
    "scrolled": true
   },
   "outputs": [
    {
     "name": "stdout",
     "output_type": "stream",
     "text": [
      "/Users/qinming/iPythonNotebook/UCSD_BigData_2015/notebooks/SP500/spdata_csv\n",
      "/Users/qinming/iPythonNotebook/UCSD_BigData_2015/notebooks/SP500\n"
     ]
    }
   ],
   "source": [
    "# Load the files into pandas DataFrame\n",
    "%cd $Data_dir\n",
    "Tables={}\n",
    "for filename in glob('*.csv'):\n",
    "    #print filename\n",
    "    tbl=pd.read_csv(filename,index_col='Date',parse_dates=True)\n",
    "    code = filename[:-4]\n",
    "    if(np.shape(tbl)[1]==12):\n",
    "        Tables[code]=tbl.sort_index()\n",
    "        Tables[code]\n",
    "    else:\n",
    "        print filename,np.shape(tbl)\n",
    "\n",
    "%cd $curr_dir"
   ]
  },
  {
   "cell_type": "markdown",
   "metadata": {},
   "source": [
    "### Pre-Processing\n",
    "In the following code we perform the following pre-processing steps:\n",
    "\n",
    "1. **Removing outliers** (choosing which ones is based on later steps)\n",
    "2. **Correcting for splits:** stocks are sometimes split into smaller denominations. These splits have to be accounted for in order to get a continuous price line without jumps.\n",
    "3. **Computing diffs:** It is more meaningful to predict *changes* in prices than prices themselves. We therefor compute for each stock a `Diffs` sequence in which $d(t)=\\log \\frac{p(t+1)}{p(t)}$ where $p(t)$ is the price at time $t$ and $d(t)$ is the price diff or the price ratio."
   ]
  },
  {
   "cell_type": "code",
   "execution_count": 13,
   "metadata": {
    "collapsed": false
   },
   "outputs": [],
   "source": [
    "Daily=pd.DataFrame()\n",
    "Diffs=pd.DataFrame()\n",
    "#print np.shape(SR)\n",
    "Indices=set(Tables.keys()) #list\n",
    "# Remove the following lines to process all stocks. Plot the PCA and the time sequences of these stocks \n",
    "# to see why they are outliers and need to be removed.\n",
    "Indices=Indices - set([u'LIFE', u'PGR', u'HAS',u'UNM'])  #remove outlier stock - most likely due to file errors\n",
    "for code in Indices:\n",
    "    tbl=Tables[code]\n",
    "    SR=tbl['Split Ratio']   # incorporate split ratios of stock\n",
    "    CSR=np.cumsum(SR.apply(math.log)).apply(math.exp)\n",
    "    S=np.multiply(tbl['Open'],CSR)\n",
    "    S=S/S.mean()\n",
    "    SasDataFrame=pd.DataFrame(data={code:S})\n",
    "    # The pandas Series S will be merged into Daily according to the indices.\n",
    "    Daily=Daily.join(SasDataFrame,how='outer')       \n",
    "    prices=np.array(S)  # The length of \"prices\" will remain the original length.\n",
    "    diff=np.log(prices[1:]/prices[:-1])\n",
    "    I=S.index\n",
    "    I=I[1:]\n",
    "    #print np.shae(Diffs),np.shape(Sdiff),np.shape(diff),len(I)\n",
    "    Sdiff=pd.DataFrame(diff,index=I,columns=[code])\n",
    "    Diffs=Diffs.join(Sdiff,how='outer')"
   ]
  },
  {
   "cell_type": "code",
   "execution_count": null,
   "metadata": {
    "collapsed": false
   },
   "outputs": [],
   "source": [
    "# plot some stocks\n",
    "Daily[['AAPL','MSFT','GOOG','IBM']].plot(figsize=(14,10))\n"
   ]
  },
  {
   "cell_type": "markdown",
   "metadata": {},
   "source": [
    "### Pickling and unpickling\n",
    "The preprocessing steps take a significant amount of time. Instead of redoing these steps each time\n",
    "you start the iPython kernel. You can pickle the results into a file and load this file again in later runs, skipping the preprocessing step"
   ]
  },
  {
   "cell_type": "code",
   "execution_count": 15,
   "metadata": {
    "collapsed": false
   },
   "outputs": [],
   "source": [
    "pickle.dump({'Daily':Daily,'Diffs':Diffs},open('DailyDiffs.pkl','wb'))"
   ]
  },
  {
   "cell_type": "code",
   "execution_count": 16,
   "metadata": {
    "collapsed": false
   },
   "outputs": [],
   "source": [
    "PD=pickle.load(open('DailyDiffs.pkl','rb'))"
   ]
  },
  {
   "cell_type": "code",
   "execution_count": 17,
   "metadata": {
    "collapsed": true
   },
   "outputs": [],
   "source": [
    "Daily=PD['Daily']\n",
    "Diffs=PD['Diffs']"
   ]
  },
  {
   "cell_type": "markdown",
   "metadata": {},
   "source": [
    "## Create a color map by sector to which the stock belongs"
   ]
  },
  {
   "cell_type": "code",
   "execution_count": 141,
   "metadata": {
    "collapsed": false
   },
   "outputs": [],
   "source": [
    "colorMap0 = [\n",
    "'#000000',\n",
    "'#FF0000',\n",
    "'#800000',\n",
    "'#FFFF00',\n",
    "'#808000',\n",
    "'#00FF00',\n",
    "'#008000',\n",
    "'#00FFFF',\n",
    "'#008080',\n",
    "'#0000FF',\n",
    "'#000080',\n",
    "'#FF00FF',\n",
    "'#800080']\n",
    "constituent = None\n",
    "constituent=pd.read_csv('constituents_Lu.csv',index_col='Symbol')\n",
    "sector = constituent['Sector']\n",
    "colormap1 = {}\n",
    "assign = 0\n",
    "for sec in sector :\n",
    "    if not (sec in colormap1):\n",
    "        colormap1[sec] = assign\n",
    "        assign += 1\n",
    "colorMap = {}\n",
    "for code, sec in enumerate(sector):\n",
    "    colorMap[sector.index[code]] = colorMap0[colormap1[sec]]"
   ]
  },
  {
   "cell_type": "markdown",
   "metadata": {},
   "source": [
    "### PCA1\n",
    "####Eigen-vectors correspond to time sequences\n",
    "In the following steps we perform of the `Diffs` matrix column wise. The result is a set of eigen-vectors whose dimension is the total number of trading days (13422)"
   ]
  },
  {
   "cell_type": "code",
   "execution_count": 24,
   "metadata": {
    "collapsed": false
   },
   "outputs": [
    {
     "data": {
      "text/plain": [
       "((30, 13422), (13422, 481), (481, 13422))"
      ]
     },
     "execution_count": 24,
     "metadata": {},
     "output_type": "execute_result"
    }
   ],
   "source": [
    "from sklearn.decomposition import PCA\n",
    "\n",
    "pca = PCA(n_components=30)\n",
    "diffs_matrix=np.transpose(np.array(Diffs.fillna(0)))# fill N/A with 0\n",
    "pca.fit(diffs_matrix)\n",
    "eigen_vecs=pca.components_\n",
    "np.shape(eigen_vecs), np.shape(Diffs), np.shape(diffs_matrix)"
   ]
  },
  {
   "cell_type": "code",
   "execution_count": 25,
   "metadata": {
    "collapsed": false,
    "scrolled": true
   },
   "outputs": [
    {
     "name": "stdout",
     "output_type": "stream",
     "text": [
      "individual percent explained:\n",
      "[ 0.05394363  0.03376526  0.02902396  0.02541831  0.0158646   0.01288044\n",
      "  0.01159089  0.01117823  0.00803385  0.00785751  0.00756604  0.00717943\n",
      "  0.00694791  0.00682839  0.0063986   0.00627153  0.00607661  0.0058404\n",
      "  0.00568517  0.00553848  0.00549541  0.00541794  0.00525759  0.00512936\n",
      "  0.00511184  0.00500667  0.00488102  0.00483066  0.00473514  0.00470256]\n",
      "cumulative percent explained:\n",
      "[ 0.05394363  0.08770889  0.11673285  0.14215116  0.15801575  0.1708962\n",
      "  0.18248708  0.19366531  0.20169916  0.20955667  0.21712272  0.22430215\n",
      "  0.23125006  0.23807845  0.24447705  0.25074858  0.25682519  0.26266559\n",
      "  0.26835076  0.27388924  0.27938465  0.28480259  0.29006018  0.29518954\n",
      "  0.30030138  0.30530805  0.31018907  0.31501973  0.31975487  0.32445744]\n"
     ]
    },
    {
     "data": {
      "text/plain": [
       "<matplotlib.text.Text at 0x131721650>"
      ]
     },
     "execution_count": 25,
     "metadata": {},
     "output_type": "execute_result"
    },
    {
     "data": {
      "image/png": "[encoded data removed]",
      "text/plain": [
       "<matplotlib.figure.Figure at 0x12fd24390>"
      ]
     },
     "metadata": {},
     "output_type": "display_data"
    }
   ],
   "source": [
    "# check how much of the variance is explained by the top eigenvectors.\n",
    "print 'individual percent explained:\\n',pca.explained_variance_ratio_\n",
    "print 'cumulative percent explained:\\n',np.cumsum(pca.explained_variance_ratio_)\n",
    "plt.plot(np.cumsum(np.concatenate([np.array([0]),pca.explained_variance_ratio_])))\n",
    "plt.grid()\n",
    "plt.title('Percentage of variance explained')"
   ]
  },
  {
   "cell_type": "code",
   "execution_count": 26,
   "metadata": {
    "collapsed": false
   },
   "outputs": [
    {
     "data": {
      "text/plain": [
       "(481, 30)"
      ]
     },
     "execution_count": 26,
     "metadata": {},
     "output_type": "execute_result"
    }
   ],
   "source": [
    "tdf = pca.transform(diffs_matrix)  # compute the projections of the stocks on the eigen-values\n",
    "np.shape(tdf)"
   ]
  },
  {
   "cell_type": "code",
   "execution_count": 143,
   "metadata": {
    "collapsed": false,
    "scrolled": false
   },
   "outputs": [
    {
     "data": {
      "text/plain": [
       "<matplotlib.figure.Figure at 0x153af8610>"
      ]
     },
     "metadata": {},
     "output_type": "display_data"
    }
   ],
   "source": [
    "# Generate the scatter plot of the stocks on a pair of eigen-vectors defined by i0,i1\n",
    "i0=0;i1=1\n",
    "# In order that the stock ticker names are readable we make the plot very large\n",
    "fig, ax = plt.subplots(figsize=(20,20))  \n",
    "plt.xlim([np.amin(tdf[:,i0]),np.amax(tdf[:,i0])])\n",
    "plt.ylim([np.amin(tdf[:,i1]),np.amax(tdf[:,i1])])\n",
    "plt.title('SP500 stocks scatter on '+str(i0)+', '+str(i1),fontsize=20)\n",
    "names=Diffs.columns\n",
    "for i in range(len(names)):\n",
    "    ax.annotate(names[i], (tdf[i,i0],tdf[i,i1]),fontsize=5,color=colorMap[names[i]] )\n",
    "# This very large plot is hard to view and manipulate inside the notebook. We therefor export it into a pdf file\n",
    "fig.savefig('scatter'+str(i0)+str(i1)+'.pdf', format='PDF')\n",
    "# After exporting, we clear the figure so that the plot does not appear in the notebook.\n",
    "fig.clear()"
   ]
  },
  {
   "cell_type": "markdown",
   "metadata": {},
   "source": [
    "### PCA2\n",
    "####Eigen-vectors correspond to stock weightings.\n",
    "In the following steps we perform of the `Diffs` matrix row wise. The result is a set of eigen-vectors \n",
    "whose dimension is the number of stocks (481)"
   ]
  },
  {
   "cell_type": "code",
   "execution_count": 33,
   "metadata": {
    "collapsed": false
   },
   "outputs": [
    {
     "data": {
      "text/plain": [
       "((30, 481), (481,))"
      ]
     },
     "execution_count": 33,
     "metadata": {},
     "output_type": "execute_result"
    }
   ],
   "source": [
    "from sklearn.decomposition import PCA\n",
    "\n",
    "pca = PCA(n_components=30)\n",
    "diffs_matrix=np.array(Diffs.fillna(0))\n",
    "pca.fit(diffs_matrix)\n",
    "eigen_vecs=pca.components_\n",
    "np.shape(eigen_vecs), np.shape(names)"
   ]
  },
  {
   "cell_type": "code",
   "execution_count": 34,
   "metadata": {
    "collapsed": false
   },
   "outputs": [
    {
     "name": "stdout",
     "output_type": "stream",
     "text": [
      "individual percent explained:\n",
      "[ 0.21398827  0.03770126  0.02369833  0.02260537  0.01292739  0.01108481\n",
      "  0.01011396  0.00910506  0.00817646  0.00644264  0.00614672  0.00597968\n",
      "  0.00571326  0.00558592  0.00527333  0.00509926  0.00499056  0.00478962\n",
      "  0.00470154  0.00460268  0.00448346  0.00442335  0.00426686  0.00419238\n",
      "  0.00415919  0.00406939  0.00400249  0.00395228  0.00389476  0.00383117]\n",
      "cumulative percent explained:\n",
      "[ 0.21398827  0.25168953  0.27538785  0.29799322  0.31092061  0.32200542\n",
      "  0.33211938  0.34122444  0.3494009   0.35584354  0.36199026  0.36796994\n",
      "  0.3736832   0.37926912  0.38454245  0.38964172  0.39463228  0.3994219\n",
      "  0.40412344  0.40872612  0.41320958  0.41763293  0.42189979  0.42609217\n",
      "  0.43025136  0.43432075  0.43832324  0.44227552  0.44617028  0.45000145]\n"
     ]
    },
    {
     "data": {
      "text/plain": [
       "<matplotlib.text.Text at 0x13482ec90>"
      ]
     },
     "execution_count": 34,
     "metadata": {},
     "output_type": "execute_result"
    },
    {
     "data": {
      "image/png": "[encoded data removed]",
      "text/plain": [
       "<matplotlib.figure.Figure at 0x12ff30e50>"
      ]
     },
     "metadata": {},
     "output_type": "display_data"
    }
   ],
   "source": [
    "# check how much of the variance is explained by the top eigenvectors.\n",
    "print 'individual percent explained:\\n',pca.explained_variance_ratio_\n",
    "print 'cumulative percent explained:\\n',np.cumsum(pca.explained_variance_ratio_)\n",
    "plt.plot(np.cumsum(np.concatenate([np.array([0]),pca.explained_variance_ratio_])))\n",
    "plt.grid()\n",
    "plt.title('Percentage of variance explained')"
   ]
  },
  {
   "cell_type": "markdown",
   "metadata": {},
   "source": [
    "**HW** in this case the first eigen-vector explains more that %21 of the variance. Can you give an interpretation to this vector? (Hint: look at the distribution of the coordinate values)"
   ]
  },
  {
   "cell_type": "code",
   "execution_count": 35,
   "metadata": {
    "collapsed": false
   },
   "outputs": [
    {
     "data": {
      "text/plain": [
       "((30, 481), (481,))"
      ]
     },
     "execution_count": 35,
     "metadata": {},
     "output_type": "execute_result"
    }
   ],
   "source": [
    "np.shape(eigen_vecs),np.shape(names)"
   ]
  },
  {
   "cell_type": "code",
   "execution_count": 144,
   "metadata": {
    "collapsed": false
   },
   "outputs": [
    {
     "data": {
      "text/plain": [
       "<matplotlib.figure.Figure at 0x15c128050>"
      ]
     },
     "metadata": {},
     "output_type": "display_data"
    }
   ],
   "source": [
    "# Generate the scatter plot of the stocks on a pair of eigen-vectors defined by i0,i1\n",
    "i0=1;i1=2\n",
    "# In order that the stock ticker names are readable we make the plot very large\n",
    "fig, ax = plt.subplots(figsize=(20,20))\n",
    "plt.xlim([np.amin(eigen_vecs[i0,:]),np.amax(eigen_vecs[i0,:])])\n",
    "plt.ylim([np.amin(eigen_vecs[i1,:]),np.amax(eigen_vecs[i1,:])])\n",
    "plt.title('SP500 stocks scatter on '+str(i0)+', '+str(i1),fontsize=20)\n",
    "names=Diffs.columns\n",
    "for i in range(len(names)):\n",
    "    ax.annotate(names[i], (eigen_vecs[i0,i],eigen_vecs[i1,i]),fontsize=5,color=colorMap[names[i]])\n",
    "# This very large plot is hard to view and manipulate inside the notebook. We therefor export it into a pdf file\n",
    "fig.savefig('scatter'+str(i0)+str(i1)+'PCA2.pdf', format='PDF')\n",
    "# After exporting, we clear the figure so that the plot does not appear in the notebook.\n",
    "fig.clear()"
   ]
  },
  {
   "cell_type": "markdown",
   "metadata": {},
   "source": [
    "### Identifying outliers\n",
    "Use these cells after you comment out the command above that removes the indices `set([u'LIFE', u'PGR', u'HAS',u'UNM'])`"
   ]
  },
  {
   "cell_type": "code",
   "execution_count": 17,
   "metadata": {
    "collapsed": false
   },
   "outputs": [
    {
     "name": "stdout",
     "output_type": "stream",
     "text": [
      "AMGN [-0.24826548 -0.51960331]\n",
      "NEM [ 0.59058826 -0.0990569 ]\n",
      "NTAP [-1.53421152 -0.25656284]\n",
      "GNW [ 0.17344529  1.11112665]\n"
     ]
    }
   ],
   "source": [
    "## Identify the outliers \n",
    "## To make this really work, comment out the removed stocks when processing above: set([u'LIFE', u'PGR', u'HAS',u'UNM'])\n",
    "mx=[0]*2\n",
    "mn=[0]*2\n",
    "Set=set()\n",
    "names=Diffs.columns\n",
    "for i in range(2):\n",
    "    mx[i]=np.argmax(tdf[:,i])\n",
    "    mn[i]=np.argmin(tdf[:,i])\n",
    "    Set=Set.union(set([mn[i],mx[i]]))\n",
    "for elem in Set:\n",
    "    print names[elem],\n",
    "    print tdf[elem,:2]"
   ]
  },
  {
   "cell_type": "code",
   "execution_count": 18,
   "metadata": {
    "collapsed": false
   },
   "outputs": [],
   "source": [
    "#One of the bad sequences.\n",
    "# Daily[[u'UNM']].plot(figsize=(14,10))"
   ]
  },
  {
   "cell_type": "markdown",
   "metadata": {},
   "source": [
    "### HW\n",
    "\n",
    "**Global analysis**\n",
    "1. Use the information in the file `constituents.csv` to color code the stocks according to sector to which the stock belongs.\n",
    "1. Use the online PCA method to find the local eigen-vectors corresponding to PCA2 (Row wise analysis, generating vectors whose dimension is the number of stocks). Use an $\\alpha$ value that corresponds to 10 years.\n",
    "1. generate the coloring as above for the projection on the top two eigen-vectors corresponding to 1970,1980,1990,2000,2010.\n",
    "\n",
    "**local analysis**\n",
    "1. You should have recieved a ticker symbol in email from the TA. The ticker symbol corresponds to a company that has been in existance for the last 50 years or more. Use wikipedia, Yahoo! etc. to compile a paragraph on the company and it's history.\n",
    "1. Using the projection on the top 20 eigenvectors, identify the 10 companies that are closest (using euclidean distance) to your company.\n",
    "1. Repeat the same for each one of the 10-year PCA projections for each 10 years from 1970 to 2010 (see above).\n",
    "1. Generate a plot of the price of your stock, and it's related stocks as a function of time. Figure out some way (scaling, chopping the time line, taking logs etc.) that the performance of the stocks can be compared for the whole time in which your stock was in existence.\n",
    "1. Using Wikipedia etc. find out a description of the neighboring companies.\n",
    "2. Based on the description, give a narrative describing the location of the company in the context of it's neighbor companies. In what ways is it similar to it's neighbors and in what ways it is unique. Are there any companies that are competitors? Suppliers? Buyers?\n",
    "How did it's location change over the time of it's existance. Write this description in a markdown cell.\n",
    "\n",
    "**Extra credit**\n",
    "* Use [Plotly](https://plot.ly/) to create a dynamic scatter-plot which can be navigated (pan and zoom) and where clicking on each ticker brings up information about that stock.\n",
    "* Figure out the meaning of the \"adjusted\" columns in the original tables and find out if they are better/worse/similar for PCA analysis."
   ]
  },
  {
   "cell_type": "markdown",
   "metadata": {},
   "source": [
    "HW in this case the first eigen-vector explains more that %21 of the variance. Can you give an interpretation to this vector? (Hint: look at the distribution of the coordinate values)"
   ]
  },
  {
   "cell_type": "code",
   "execution_count": 100,
   "metadata": {
    "collapsed": false
   },
   "outputs": [
    {
     "data": {
      "text/plain": [
       "[(2809, 2.0)]"
      ]
     },
     "execution_count": 100,
     "metadata": {},
     "output_type": "execute_result"
    }
   ],
   "source": [
    "[(i,x) for i,x in enumerate(Tables['PCG']['Split Ratio']) if x!=1]"
   ]
  }
 ],
 "metadata": {
  "kernelspec": {
   "display_name": "Python 2",
   "language": "python",
   "name": "python2"
  },
  "language_info": {
   "codemirror_mode": {
    "name": "ipython",
    "version": 2
   },
   "file_extension": ".py",
   "mimetype": "text/x-python",
   "name": "python",
   "nbconvert_exporter": "python",
   "pygments_lexer": "ipython2",
   "version": "2.7.9"
  }
 },
 "nbformat": 4,
 "nbformat_minor": 0
}
